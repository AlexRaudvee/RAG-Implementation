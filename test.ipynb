{
 "cells": [
  {
   "cell_type": "code",
   "execution_count": 12,
   "metadata": {},
   "outputs": [],
   "source": [
    "from functions.functions import *\n",
    "from config import model"
   ]
  },
  {
   "cell_type": "code",
   "execution_count": 13,
   "metadata": {},
   "outputs": [],
   "source": [
    "def main_workflow(file_path, model, user_question):\n",
    "    # Step 1: Upload Document\n",
    "    docs = upload_document(file_path)\n",
    "    for doc in docs:\n",
    "        print(doc.page_content)\n",
    "        print(\"-------\")\n",
    "    \n",
    "    # Step 2: Initialize Vector Database\n",
    "    vector_db = initialize_vector_db(docs)\n",
    "    \n",
    "    # Step 3: Retrieve Context for User's Question\n",
    "    context = retrieve_context(vector_db, user_question)\n",
    "    print(\"\\n\\nCONTEXT RETRIEVED:\")\n",
    "    for part in context:\n",
    "        print(part)\n",
    "        print(\"-------------\")\n",
    "    \n",
    "    # Step 4: Generate Answer with Gemini API\n",
    "    answer = generate_response_with_context(model, context, user_question)\n",
    "    \n",
    "    return answer\n"
   ]
  },
  {
   "cell_type": "code",
   "execution_count": 14,
   "metadata": {},
   "outputs": [
    {
     "name": "stdout",
     "output_type": "stream",
     "text": [
      "CHUNKING OF DOCUMENT: ...\n",
      "CHUNKING COMPLETE!\n",
      "Instructions for Using Docker\n",
      "Docker is a platform to create, deploy, and run applications inside containers. Below is a step-by-step guide:\n",
      "\n",
      "1. Install Docker\n",
      "Visit the Docker website and download Docker Desktop for your operating system.\n",
      "Install Docker and follow the setup wizard.\n",
      "Verify installation by running in a terminal: docker --version\n",
      "-------\n",
      "2. Understand Key Concepts\n",
      "Image: A template for creating containers (e.g., Ubuntu, Python).\n",
      "Container: A lightweight, isolated instance of an image.\n",
      "Dockerfile: A script to automate image creation.\n",
      "-------\n",
      "3. Basic Docker Commands\n",
      "Pull an image: docker pull <image_name>\n",
      "Run a container: docker run -it <image_name>\n",
      "List running containers: docker ps\n",
      "Stop a container: docker stop <container_id>\n",
      "-------\n",
      "4. Create a Dockerfile\n",
      "Write a Dockerfile:\n",
      "Dockerfile\n",
      "FROM python:3.9\n",
      "WORKDIR /app\n",
      "COPY . .\n",
      "RUN pip install -r requirements.txt\n",
      "CMD [\"python\", \"app.py\"]\n",
      "Build and run: docker build -t my_app .\n",
      "docker run my_app\n",
      "-------\n",
      "5. Using Docker Compose\n",
      "Create a docker-compose.yml file for multi-container applications:\n",
      "yaml\n",
      "version: '3'\n",
      "services:\n",
      "  web:\n",
      "    image: nginx\n",
      "    ports:\n",
      "      - \"8080:80\"\n",
      "Run: docker-compose up\n",
      "-------\n",
      "6. Stop and Remove Containers\n",
      "Stop all running containers: docker stop $(docker ps -q)\n",
      "Remove all containers: docker rm $(docker ps -a -q)\n",
      "\n",
      "7. Best Practices\n",
      "Regularly clean unused images and containers: docker system prune\n",
      "Use .dockerignore to exclude files from the image.\n",
      "Explore Docker Documentation for more details.\n",
      "-------\n",
      "EMBEDDING THE DOCUMENTS: ...\n",
      "EMBEDDING DONE!\n",
      "\n",
      "\n",
      "CONTEXT RETRIEVED:\n",
      "page_content='6. Stop and Remove Containers\n",
      "Stop all running containers: docker stop $(docker ps -q)\n",
      "Remove all containers: docker rm $(docker ps -a -q)\n",
      "\n",
      "7. Best Practices\n",
      "Regularly clean unused images and containers: docker system prune\n",
      "Use .dockerignore to exclude files from the image.\n",
      "Explore Docker Documentation for more details.' metadata={'chunk': 0, 'page': 6, 'source': '6-0'}\n",
      "-------------\n",
      "page_content='6. Stop and Remove Containers\n",
      "Stop all running containers: docker stop $(docker ps -q)\n",
      "Remove all containers: docker rm $(docker ps -a -q)\n",
      "\n",
      "7. Best Practices\n",
      "Regularly clean unused images and containers: docker system prune\n",
      "Use .dockerignore to exclude files from the image.\n",
      "Explore Docker Documentation for more details.' metadata={'chunk': 0, 'page': 6, 'source': '6-0'}\n",
      "-------------\n",
      "page_content='3. Basic Docker Commands\n",
      "Pull an image: docker pull <image_name>\n",
      "Run a container: docker run -it <image_name>\n",
      "List running containers: docker ps\n",
      "Stop a container: docker stop <container_id>' metadata={'chunk': 0, 'page': 3, 'source': '3-0'}\n",
      "-------------\n",
      "PULING KNOWLEDGE TO MODEL: ...\n",
      "PULL OF KNOWLEDGE DONE!\n",
      "RESPONSE:\n",
      "To delete all containers, use the command `docker rm $(docker ps -a -q)`.  To stop a specific container, use `docker stop <container_id>`.\n",
      "\n"
     ]
    }
   ],
   "source": [
    "file_path = \"documents/docker.txt\"\n",
    "user_question = \"How to delete container?\"\n",
    "\n",
    "response = main_workflow(file_path, model, user_question)\n",
    "print(\"RESPONSE:\")\n",
    "print(response[0])\n"
   ]
  },
  {
   "cell_type": "code",
   "execution_count": 5,
   "metadata": {},
   "outputs": [
    {
     "name": "stderr",
     "output_type": "stream",
     "text": [
      "Processing Root Links: 100%|██████████| 3/3 [00:16<00:00,  5.65s/it]\n"
     ]
    },
    {
     "data": {
      "text/plain": [
       "['https://en.wikipedia.org/wiki/History_of_Monopoly',\n",
       " 'https://shop.hasbro.com/en-us/product/monopoly-game/7EABAF97-5056-9047-F577-8F4663C79E75',\n",
       " 'https://www.dicebreaker.com/games/monopoly/how-to/how-to-play-monopoly']"
      ]
     },
     "execution_count": 5,
     "metadata": {},
     "output_type": "execute_result"
    }
   ],
   "source": [
    "from functions.functions import *\n",
    "\n",
    "search_info_to_txt(\"What is Monopoly game?\", top=5, similarity=0.7)"
   ]
  },
  {
   "cell_type": "code",
   "execution_count": null,
   "metadata": {},
   "outputs": [
    {
     "name": "stderr",
     "output_type": "stream",
     "text": [
      "c:\\Users\\raudvee\\OneDrive - Webfleet\\Desktop\\Code-Dev\\RAG-Implementation\\.venv\\lib\\site-packages\\urllib3\\connectionpool.py:1064: InsecureRequestWarning: Unverified HTTPS request is being made to host 'www.google.com'. Adding certificate verification is strongly advised. See: https://urllib3.readthedocs.io/en/1.26.x/advanced-usage.html#ssl-warnings\n",
      "  warnings.warn(\n",
      "c:\\Users\\raudvee\\OneDrive - Webfleet\\Desktop\\Code-Dev\\RAG-Implementation\\.venv\\lib\\site-packages\\urllib3\\connectionpool.py:1064: InsecureRequestWarning: Unverified HTTPS request is being made to host 'consent.google.com'. Adding certificate verification is strongly advised. See: https://urllib3.readthedocs.io/en/1.26.x/advanced-usage.html#ssl-warnings\n",
      "  warnings.warn(\n"
     ]
    }
   ],
   "source": [
    "from pydork.engine import SearchEngine\n",
    "\n",
    "search_engine = SearchEngine()\n",
    "\n",
    "search_engine.ENGINE\n",
    "search_result = search_engine.search('super mario', search_type=\"text\")"
   ]
  },
  {
   "cell_type": "code",
   "execution_count": 16,
   "metadata": {},
   "outputs": [],
   "source": [
    "query = \"supermario\""
   ]
  },
  {
   "cell_type": "code",
   "execution_count": 21,
   "metadata": {},
   "outputs": [],
   "source": [
    "import requests\n",
    "from bs4 import BeautifulSoup\n",
    "page = requests.get(f\"https://www.google.ru/search?q=estonia&newwindow=1&sca_esv=b1ce1c954e88e9aa&ei=6qU8Z5ubFfOJ9u8Pm7K92A8&ved=0ahUKEwibuKzV0uiJAxXzhP0HHRtZD_sQ4dUDCHA&oq=estonia&gs_lp=Egxnd3Mtd2l6LXNlcnAiB2VzdG9uaWEyChAAGLADGNYEGEcyChAAGLADGNYEGEcyChAAGLADGNYEGEcyChAAGLADGNYEGEcyChAAGLADGNYEGEcyChAAGLADGNYEGEcyChAAGLADGNYEGEcyDRAAGIAEGLADGEMYigUyDRAAGIAEGLADGEMYigUyDRAAGIAEGLADGEMYigUyDRAAGIAEGLADGEMYigUyDRAAGIAEGLADGEMYigUyDhAAGLADGOQCGNYE2AEBMg4QABiwAxjkAhjWBNgBATIOEAAYsAMY5AIY1gTYAQEyExAuGIAEGLADGEMYyAMYigXYAQEyExAuGIAEGLADGEMYyAMYigXYAQEyExAuGIAEGLADGEMYyAMYigXYAQEyExAuGIAEGLADGEMYyAMYigXYAQFI7A5QAFgAcAJ4AZABAJgBAKABAKoBALgBDMgBAJgCAqACCpgDAIgGAZAGE7oGBggBEAEYCZIHATKgBwA&sclient=gws-wiz-serp\")\n",
    "soup = BeautifulSoup(page.content)\n",
    "import re\n",
    "links = soup.findAll(\"a\")\n",
    "for link in  soup.find_all(\"a\",href=re.compile(\"(?<=/url\\?q=)(htt.*://.*)\")):\n",
    "    print(re.split(\":(?=http)\",link[\"href\"].replace(\"/url?q=\",\"\")))"
   ]
  },
  {
   "cell_type": "code",
   "execution_count": 1,
   "metadata": {},
   "outputs": [],
   "source": [
    "try:\n",
    "\tfrom googlesearch import search\n",
    "except ImportError: \n",
    "\tprint(\"No module named 'google' found\")\n",
    "\n",
    "# to search\n",
    "query = \"Geeksforgeeks\"\n",
    "\n",
    "def google_search(query: str):\n",
    "    list_of = []\n",
    "\n",
    "\n",
    "    for link in search(query=query, num=10, stop=11):\n",
    "        list_of.append(link)\n",
    "        \n",
    "    for link in search(query=query, num=10, stop=3, tbs=\"qdr:h\"):\n",
    "        list_of.append(link)\n",
    "    for link in search(query=query, num=10, stop=3, tbs=\"qdr:d\"):\n",
    "        list_of.append(link)\n",
    "    for link in search(query=query, num=10, stop=3, tbs=\"qdr:m\"):\n",
    "        list_of.append(link)\n",
    "        \n",
    "    return set(list_of) \n",
    "\n",
    "\n"
   ]
  },
  {
   "cell_type": "code",
   "execution_count": 2,
   "metadata": {},
   "outputs": [
    {
     "data": {
      "text/plain": [
       "{'http://t3.gstatic.com/licensed-image?q=tbn:ANd9GcQrJzSTI4OI2aLe6DgXajqOO5E87Z3nGiTCZcn_-Q9xqZ_CLtLNLeYib4xxZUSGZgzb',\n",
       " 'https://en.wikipedia.org/wiki/Donald_Trump',\n",
       " 'https://nl.wikipedia.org/wiki/Donald_Trump',\n",
       " 'https://trumpwhitehouse.archives.gov/people/donald-j-trump/',\n",
       " 'https://www.britannica.com/biography/Donald-Trump',\n",
       " 'https://www.britannica.com/biography/Donald-Trump/Foreign-relations',\n",
       " 'https://www.britannica.com/biography/New-York-indictment-of-Donald-Trump-2229245',\n",
       " 'https://www.britannica.com/facts/Donald-Trump',\n",
       " 'https://www.clickondetroit.com/news/local/2024/11/19/what-is-the-trump-dance-and-where-did-it-come-from/',\n",
       " 'https://www.donaldjtrump.com/',\n",
       " 'https://www.ft.com/content/379dadff-92f7-4901-9432-403fd3c56f5d',\n",
       " 'https://www.independent.co.uk/news/world/americas/us-politics/donald-trump-news-cabinet-picks-live-updates-b2649022.html',\n",
       " 'https://www.kron4.com/top-stories/ap-top-headlines/ap-trump-and-musk-solidify-their-bond-with-texas-trip-for-rocket-launch/',\n",
       " 'https://www.theguardian.com/us-news/live/2024/nov/19/donald-trump-hush-money-trial-president-us-election-elon-musk-republican-matt-gaetz',\n",
       " 'https://www.trumplibrary.gov/trumps/president-donald-j-trump',\n",
       " 'https://www.whitehouse.gov/about-the-white-house/presidents/donald-j-trump/'}"
      ]
     },
     "execution_count": 2,
     "metadata": {},
     "output_type": "execute_result"
    }
   ],
   "source": [
    "google_search(\"Who is donald trump?\")"
   ]
  },
  {
   "cell_type": "code",
   "execution_count": null,
   "metadata": {},
   "outputs": [],
   "source": []
  }
 ],
 "metadata": {
  "kernelspec": {
   "display_name": ".venv",
   "language": "python",
   "name": "python3"
  },
  "language_info": {
   "codemirror_mode": {
    "name": "ipython",
    "version": 3
   },
   "file_extension": ".py",
   "mimetype": "text/x-python",
   "name": "python",
   "nbconvert_exporter": "python",
   "pygments_lexer": "ipython3",
   "version": "3.10.11"
  }
 },
 "nbformat": 4,
 "nbformat_minor": 2
}
