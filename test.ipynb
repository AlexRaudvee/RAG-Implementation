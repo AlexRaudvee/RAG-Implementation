{
 "cells": [
  {
   "cell_type": "code",
   "execution_count": 12,
   "metadata": {},
   "outputs": [],
   "source": [
    "from functions.functions import *\n",
    "from config import model"
   ]
  },
  {
   "cell_type": "code",
   "execution_count": 13,
   "metadata": {},
   "outputs": [],
   "source": [
    "def main_workflow(file_path, model, user_question):\n",
    "    # Step 1: Upload Document\n",
    "    docs = upload_document(file_path)\n",
    "    for doc in docs:\n",
    "        print(doc.page_content)\n",
    "        print(\"-------\")\n",
    "    \n",
    "    # Step 2: Initialize Vector Database\n",
    "    vector_db = initialize_vector_db(docs)\n",
    "    \n",
    "    # Step 3: Retrieve Context for User's Question\n",
    "    context = retrieve_context(vector_db, user_question)\n",
    "    print(\"\\n\\nCONTEXT RETRIEVED:\")\n",
    "    for part in context:\n",
    "        print(part)\n",
    "        print(\"-------------\")\n",
    "    \n",
    "    # Step 4: Generate Answer with Gemini API\n",
    "    answer = generate_response_with_context(model, context, user_question)\n",
    "    \n",
    "    return answer\n"
   ]
  },
  {
   "cell_type": "code",
   "execution_count": 14,
   "metadata": {},
   "outputs": [
    {
     "name": "stdout",
     "output_type": "stream",
     "text": [
      "CHUNKING OF DOCUMENT: ...\n",
      "CHUNKING COMPLETE!\n",
      "Instructions for Using Docker\n",
      "Docker is a platform to create, deploy, and run applications inside containers. Below is a step-by-step guide:\n",
      "\n",
      "1. Install Docker\n",
      "Visit the Docker website and download Docker Desktop for your operating system.\n",
      "Install Docker and follow the setup wizard.\n",
      "Verify installation by running in a terminal: docker --version\n",
      "-------\n",
      "2. Understand Key Concepts\n",
      "Image: A template for creating containers (e.g., Ubuntu, Python).\n",
      "Container: A lightweight, isolated instance of an image.\n",
      "Dockerfile: A script to automate image creation.\n",
      "-------\n",
      "3. Basic Docker Commands\n",
      "Pull an image: docker pull <image_name>\n",
      "Run a container: docker run -it <image_name>\n",
      "List running containers: docker ps\n",
      "Stop a container: docker stop <container_id>\n",
      "-------\n",
      "4. Create a Dockerfile\n",
      "Write a Dockerfile:\n",
      "Dockerfile\n",
      "FROM python:3.9\n",
      "WORKDIR /app\n",
      "COPY . .\n",
      "RUN pip install -r requirements.txt\n",
      "CMD [\"python\", \"app.py\"]\n",
      "Build and run: docker build -t my_app .\n",
      "docker run my_app\n",
      "-------\n",
      "5. Using Docker Compose\n",
      "Create a docker-compose.yml file for multi-container applications:\n",
      "yaml\n",
      "version: '3'\n",
      "services:\n",
      "  web:\n",
      "    image: nginx\n",
      "    ports:\n",
      "      - \"8080:80\"\n",
      "Run: docker-compose up\n",
      "-------\n",
      "6. Stop and Remove Containers\n",
      "Stop all running containers: docker stop $(docker ps -q)\n",
      "Remove all containers: docker rm $(docker ps -a -q)\n",
      "\n",
      "7. Best Practices\n",
      "Regularly clean unused images and containers: docker system prune\n",
      "Use .dockerignore to exclude files from the image.\n",
      "Explore Docker Documentation for more details.\n",
      "-------\n",
      "EMBEDDING THE DOCUMENTS: ...\n",
      "EMBEDDING DONE!\n",
      "\n",
      "\n",
      "CONTEXT RETRIEVED:\n",
      "page_content='6. Stop and Remove Containers\n",
      "Stop all running containers: docker stop $(docker ps -q)\n",
      "Remove all containers: docker rm $(docker ps -a -q)\n",
      "\n",
      "7. Best Practices\n",
      "Regularly clean unused images and containers: docker system prune\n",
      "Use .dockerignore to exclude files from the image.\n",
      "Explore Docker Documentation for more details.' metadata={'chunk': 0, 'page': 6, 'source': '6-0'}\n",
      "-------------\n",
      "page_content='6. Stop and Remove Containers\n",
      "Stop all running containers: docker stop $(docker ps -q)\n",
      "Remove all containers: docker rm $(docker ps -a -q)\n",
      "\n",
      "7. Best Practices\n",
      "Regularly clean unused images and containers: docker system prune\n",
      "Use .dockerignore to exclude files from the image.\n",
      "Explore Docker Documentation for more details.' metadata={'chunk': 0, 'page': 6, 'source': '6-0'}\n",
      "-------------\n",
      "page_content='3. Basic Docker Commands\n",
      "Pull an image: docker pull <image_name>\n",
      "Run a container: docker run -it <image_name>\n",
      "List running containers: docker ps\n",
      "Stop a container: docker stop <container_id>' metadata={'chunk': 0, 'page': 3, 'source': '3-0'}\n",
      "-------------\n",
      "PULING KNOWLEDGE TO MODEL: ...\n",
      "PULL OF KNOWLEDGE DONE!\n",
      "RESPONSE:\n",
      "To delete all containers, use the command `docker rm $(docker ps -a -q)`.  To stop a specific container, use `docker stop <container_id>`.\n",
      "\n"
     ]
    }
   ],
   "source": [
    "file_path = \"documents/docker.txt\"\n",
    "user_question = \"How to delete container?\"\n",
    "\n",
    "response = main_workflow(file_path, model, user_question)\n",
    "print(\"RESPONSE:\")\n",
    "print(response[0])\n"
   ]
  },
  {
   "cell_type": "code",
   "execution_count": 5,
   "metadata": {},
   "outputs": [
    {
     "name": "stderr",
     "output_type": "stream",
     "text": [
      "Processing Root Links: 100%|██████████| 3/3 [00:16<00:00,  5.65s/it]\n"
     ]
    },
    {
     "data": {
      "text/plain": [
       "['https://en.wikipedia.org/wiki/History_of_Monopoly',\n",
       " 'https://shop.hasbro.com/en-us/product/monopoly-game/7EABAF97-5056-9047-F577-8F4663C79E75',\n",
       " 'https://www.dicebreaker.com/games/monopoly/how-to/how-to-play-monopoly']"
      ]
     },
     "execution_count": 5,
     "metadata": {},
     "output_type": "execute_result"
    }
   ],
   "source": [
    "from functions.functions import *\n",
    "\n",
    "search_info_to_txt(\"What is Monopoly game?\", top=5, similarity=0.7)"
   ]
  },
  {
   "cell_type": "code",
   "execution_count": 3,
   "metadata": {},
   "outputs": [
    {
     "data": {
      "text/plain": [
       "['https://en.wikipedia.org/wiki/History_of_Monopoly',\n",
       " 'https://shop.hasbro.com/en-us/product/monopoly-game/7EABAF97-5056-9047-F577-8F4663C79E75',\n",
       " 'https://www.dicebreaker.com/games/monopoly/how-to/how-to-play-monopoly']"
      ]
     },
     "execution_count": 3,
     "metadata": {},
     "output_type": "execute_result"
    }
   ],
   "source": [
    "get_google_links(\"What is Monopoly game?\")"
   ]
  },
  {
   "cell_type": "code",
   "execution_count": null,
   "metadata": {},
   "outputs": [],
   "source": []
  }
 ],
 "metadata": {
  "kernelspec": {
   "display_name": ".venv",
   "language": "python",
   "name": "python3"
  },
  "language_info": {
   "codemirror_mode": {
    "name": "ipython",
    "version": 3
   },
   "file_extension": ".py",
   "mimetype": "text/x-python",
   "name": "python",
   "nbconvert_exporter": "python",
   "pygments_lexer": "ipython3",
   "version": "3.10.14"
  }
 },
 "nbformat": 4,
 "nbformat_minor": 2
}
